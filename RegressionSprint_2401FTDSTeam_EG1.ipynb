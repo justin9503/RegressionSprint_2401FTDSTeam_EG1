{
 "cells": [
  {
   "cell_type": "code",
   "execution_count": null,
   "id": "66d07ac0-c10b-45af-9c78-00b07ce1f5ae",
   "metadata": {},
   "outputs": [],
   "source": [
    "%matplotlib inline\n",
    "\n",
    "import pandas as pd\n",
    "import numpy as np\n",
    "import matplotlib.pyplot as plt\n",
    "import seaborn as sns\n",
    "from statsmodels.graphics.correlation import plot_corr\n",
    "\n",
    "\n",
    "import warnings\n",
    "warnings.filterwarnings('ignore')"
   ]
  },
  {
   "cell_type": "markdown",
   "id": "9fc7fc3d-6ae9-4284-9885-532d533b45ee",
   "metadata": {},
   "source": [
    "## Load and Clean Data"
   ]
  },
  {
   "cell_type": "code",
   "execution_count": null,
   "id": "2f7776b9-ca14-427f-88ca-7b33f651aa59",
   "metadata": {
    "scrolled": true
   },
   "outputs": [],
   "source": [
    "df = pd.read_csv(\"co2_emissions_from_agri.csv\")\n",
    "df.head()"
   ]
  },
  {
   "cell_type": "code",
   "execution_count": null,
   "id": "fc9e5e3f-9302-449b-aa66-f4c0360ed0b6",
   "metadata": {},
   "outputs": [],
   "source": [
    "df.columns = [col.replace(\" \", \"_\") for col in df.columns]\n",
    "df.head()"
   ]
  },
  {
   "cell_type": "code",
   "execution_count": null,
   "id": "fd2eb7d4-e690-4a5d-99c0-458e3259e245",
   "metadata": {
    "scrolled": true
   },
   "outputs": [],
   "source": [
    "df.info()"
   ]
  },
  {
   "cell_type": "code",
   "execution_count": null,
   "id": "48da54bb-1afb-4824-a154-9bf0d94b03d0",
   "metadata": {},
   "outputs": [],
   "source": [
    "df.describe()"
   ]
  },
  {
   "cell_type": "code",
   "execution_count": null,
   "id": "1cf8d4df-f382-4d05-bb85-1559984da9e4",
   "metadata": {},
   "outputs": [],
   "source": [
    "df.isna().sum()"
   ]
  },
  {
   "cell_type": "code",
   "execution_count": null,
   "id": "25c21101-5de3-4abe-ad3b-cfb3dbd90356",
   "metadata": {},
   "outputs": [],
   "source": [
    "df_check = df[\n",
    "    [\n",
    "        \"Savanna_fires\",\n",
    "        \"Forest_fires\",\n",
    "        \"Crop_Residues\",\n",
    "        \"Forestland\",\n",
    "        \"Net_Forest_conversion\",\n",
    "        \"Food_Household_Consumption\",\n",
    "        \"IPPU\",\n",
    "        \"Manure_applied_to_Soils\",\n",
    "        \"Manure_Management\",\n",
    "        \"On-farm_energy_use\",\n",
    "    ]\n",
    "]"
   ]
  },
  {
   "cell_type": "markdown",
   "id": "73d8c4a2-909f-4be0-8103-fcd31dabe93f",
   "metadata": {},
   "source": [
    "### Handling missing data:\n",
    "- Mean-It is preferred if data is numeric and not skewed.\n",
    "- \n",
    "Median-It is preferred if data is numeric and skewed\n",
    "- \n",
    "Mode-It is preferred if the data is a string(object) or numeric."
   ]
  },
  {
   "cell_type": "code",
   "execution_count": null,
   "id": "3ad694f0-cdb6-4a06-89f7-23127e91acb2",
   "metadata": {},
   "outputs": [],
   "source": [
    "df_check.hist(bins=10, figsize=(15, 10), edgecolor=\"black\")"
   ]
  },
  {
   "cell_type": "code",
   "execution_count": null,
   "id": "74bdfd4b-89e0-433a-adfb-1692950f840e",
   "metadata": {},
   "outputs": [],
   "source": [
    "numeric_cols = df.select_dtypes(include=[np.number])\n",
    "non_numeric_cols = df.select_dtypes(exclude=[np.number])\n",
    "\n",
    "# Fill NaN values in numeric columns with the mean of each column\n",
    "numeric_cols_filled = numeric_cols.fillna(numeric_cols.mean())\n",
    "\n",
    "df_filled = pd.concat([non_numeric_cols, numeric_cols_filled], axis=1)"
   ]
  },
  {
   "cell_type": "code",
   "execution_count": null,
   "id": "78b512bc-1d6f-46b7-9922-97abe3db27de",
   "metadata": {},
   "outputs": [],
   "source": [
    "df = df_filled.copy()\n",
    "df.isna().sum()"
   ]
  },
  {
   "cell_type": "markdown",
   "id": "b016bb95-1681-4ed5-872e-a50d3ca57bb7",
   "metadata": {},
   "source": [
    "## Exploratory Data Analysis"
   ]
  },
  {
   "cell_type": "code",
   "execution_count": null,
   "id": "2c741967-c0af-4f93-b770-013cb1cf6582",
   "metadata": {},
   "outputs": [],
   "source": [
    "df.describe().T"
   ]
  },
  {
   "cell_type": "code",
   "execution_count": null,
   "id": "aae4ce5d-7b6a-4659-b8d3-c46f6092c0cf",
   "metadata": {},
   "outputs": [],
   "source": [
    "df.head(10)"
   ]
  },
  {
   "cell_type": "code",
   "execution_count": null,
   "id": "952ff6b0-2264-4e52-a16e-3cb62bae7d36",
   "metadata": {},
   "outputs": [],
   "source": [
    "df[\"Drained_organic_soils_(CO2)\"].value_counts()"
   ]
  },
  {
   "cell_type": "code",
   "execution_count": null,
   "id": "91895f57-f2ca-4ea4-b937-3a6a5f04c2f1",
   "metadata": {},
   "outputs": [],
   "source": [
    "df[\"Fires_in_organic_soils\"].value_counts()"
   ]
  },
  {
   "cell_type": "code",
   "execution_count": null,
   "id": "896e6e4e-9839-4474-bfe3-b697af6d1898",
   "metadata": {},
   "outputs": [],
   "source": [
    "df[\"Fires_in_humid_tropical_forests\"].value_counts()"
   ]
  },
  {
   "cell_type": "code",
   "execution_count": null,
   "id": "79f2609c-c764-4740-820d-a00673b689d1",
   "metadata": {},
   "outputs": [],
   "source": [
    "df.hist(figsize=(20, 20))"
   ]
  },
  {
   "cell_type": "code",
   "execution_count": null,
   "id": "1b13b142-8506-4086-8599-123be6fbce27",
   "metadata": {},
   "outputs": [],
   "source": [
    "# The correlation heatmap\n",
    "corr = df.drop(\"Area\", axis=\"columns\").corr()\n",
    "fig = plt.figure(figsize=(15, 15))\n",
    "ax = fig.add_subplot(111)\n",
    "plot_corr(corr, xnames=corr.columns, ax=ax)"
   ]
  },
  {
   "cell_type": "code",
   "execution_count": null,
   "id": "51b80425-8780-496e-82ad-b1250ef64e71",
   "metadata": {},
   "outputs": [],
   "source": [
    "def line_graph(df, x, y, title):\n",
    "    \"\"\"\n",
    "    The function receives a dataframe as the first argument followed by the independet variable x and column Y and\n",
    "    the title of the graph to be plotted, the fuction use these arguments to plot a line graph\n",
    "    \"\"\"\n",
    "\n",
    "    # Time Series Analysis - Trend Analysis\n",
    "    plt.figure(figsize=(10, 6))\n",
    "    sns.lineplot(x=x, y=y, data=df)\n",
    "    plt.title(title)\n",
    "    plt.show()\n",
    "\n",
    "\n",
    "line_graph(\n",
    "    df,\n",
    "    \"Year\",\n",
    "    \"Average_Temperature_°C\",\n",
    "    \"Trend of Average Temperature (°C) Over the Years\",\n",
    ")"
   ]
  },
  {
   "cell_type": "markdown",
   "id": "17133262",
   "metadata": {},
   "source": [
    "The graph clearly shows a rise in average temperature from the 1990s to 2020."
   ]
  },
  {
   "cell_type": "code",
   "execution_count": null,
   "id": "fe8efa63-7089-454d-8e45-1d407dfbe785",
   "metadata": {},
   "outputs": [],
   "source": [
    "line_graph(df, \"Year\", \"total_emission\", \"Trend of Total Emissions Over the Years\")"
   ]
  },
  {
   "cell_type": "markdown",
   "id": "a9fd9b25",
   "metadata": {},
   "source": [
    "The graph leaves no doubt that carbon dioxide emissions have steadily increased linearly over the years."
   ]
  },
  {
   "cell_type": "code",
   "execution_count": null,
   "id": "c5621bb9-1e66-4019-b28a-ec5455fa8d22",
   "metadata": {},
   "outputs": [],
   "source": [
    "plt.figure(figsize=(20, 20))\n",
    "sns.heatmap(\n",
    "    corr,\n",
    "    annot=True,\n",
    "    cmap=\"coolwarm\",\n",
    "    fmt=\".2f\",\n",
    "    linewidths=0.5,\n",
    "    square=True,\n",
    "    cbar_kws={\"shrink\": 0.75},\n",
    ")\n",
    "plt.title(\"Correlation Matrix with Color Scale and  correlation coefficient\")\n",
    "plt.show()"
   ]
  },
  {
   "cell_type": "markdown",
   "id": "ee50eb4d",
   "metadata": {},
   "source": [
    "From the heat map, it is evident that there is a multilinear correlation between many variables, the squares appering in dark blue indicate a negative correlation whiile the squares appearing in dark red or meron indicate positive correlation. multilinear correlation is not good for a reggration model.  \n",
    "\n",
    "\n",
    "let's explore the total emissions per year."
   ]
  },
  {
   "cell_type": "code",
   "execution_count": 71,
   "id": "83f5bf09",
   "metadata": {},
   "outputs": [
    {
     "data": {
      "text/html": [
       "<div>\n",
       "<style scoped>\n",
       "    .dataframe tbody tr th:only-of-type {\n",
       "        vertical-align: middle;\n",
       "    }\n",
       "\n",
       "    .dataframe tbody tr th {\n",
       "        vertical-align: top;\n",
       "    }\n",
       "\n",
       "    .dataframe thead th {\n",
       "        text-align: right;\n",
       "    }\n",
       "</style>\n",
       "<table border=\"1\" class=\"dataframe\">\n",
       "  <thead>\n",
       "    <tr style=\"text-align: right;\">\n",
       "      <th></th>\n",
       "      <th>Area</th>\n",
       "      <th>Year</th>\n",
       "      <th>Savanna_fires</th>\n",
       "      <th>Forest_fires</th>\n",
       "      <th>Crop_Residues</th>\n",
       "      <th>Rice_Cultivation</th>\n",
       "      <th>Drained_organic_soils_(CO2)</th>\n",
       "      <th>Pesticides_Manufacturing</th>\n",
       "      <th>Food_Transport</th>\n",
       "      <th>Forestland</th>\n",
       "      <th>...</th>\n",
       "      <th>Manure_Management</th>\n",
       "      <th>Fires_in_organic_soils</th>\n",
       "      <th>Fires_in_humid_tropical_forests</th>\n",
       "      <th>On-farm_energy_use</th>\n",
       "      <th>Rural_population</th>\n",
       "      <th>Urban_population</th>\n",
       "      <th>Total_Population_-_Male</th>\n",
       "      <th>Total_Population_-_Female</th>\n",
       "      <th>total_emission</th>\n",
       "      <th>Average_Temperature_°C</th>\n",
       "    </tr>\n",
       "  </thead>\n",
       "  <tbody>\n",
       "    <tr>\n",
       "      <th>0</th>\n",
       "      <td>Afghanistan</td>\n",
       "      <td>1990</td>\n",
       "      <td>14.7237</td>\n",
       "      <td>0.0557</td>\n",
       "      <td>205.6077</td>\n",
       "      <td>686.0</td>\n",
       "      <td>0.0</td>\n",
       "      <td>11.807483</td>\n",
       "      <td>63.1152</td>\n",
       "      <td>-2388.803</td>\n",
       "      <td>...</td>\n",
       "      <td>319.1763</td>\n",
       "      <td>0.0</td>\n",
       "      <td>0.0</td>\n",
       "      <td>3008.982252</td>\n",
       "      <td>9655167.0</td>\n",
       "      <td>2593947.0</td>\n",
       "      <td>5348387.0</td>\n",
       "      <td>5346409.0</td>\n",
       "      <td>2198.963539</td>\n",
       "      <td>0.536167</td>\n",
       "    </tr>\n",
       "  </tbody>\n",
       "</table>\n",
       "<p>1 rows × 31 columns</p>\n",
       "</div>"
      ],
      "text/plain": [
       "          Area  Year  Savanna_fires  Forest_fires  Crop_Residues  \\\n",
       "0  Afghanistan  1990        14.7237        0.0557       205.6077   \n",
       "\n",
       "   Rice_Cultivation  Drained_organic_soils_(CO2)  Pesticides_Manufacturing  \\\n",
       "0             686.0                          0.0                 11.807483   \n",
       "\n",
       "   Food_Transport  Forestland  ...  Manure_Management  Fires_in_organic_soils  \\\n",
       "0         63.1152   -2388.803  ...           319.1763                     0.0   \n",
       "\n",
       "   Fires_in_humid_tropical_forests  On-farm_energy_use  Rural_population  \\\n",
       "0                              0.0         3008.982252         9655167.0   \n",
       "\n",
       "   Urban_population  Total_Population_-_Male  Total_Population_-_Female  \\\n",
       "0         2593947.0                5348387.0                  5346409.0   \n",
       "\n",
       "   total_emission  Average_Temperature_°C  \n",
       "0     2198.963539                0.536167  \n",
       "\n",
       "[1 rows x 31 columns]"
      ]
     },
     "execution_count": 71,
     "metadata": {},
     "output_type": "execute_result"
    }
   ],
   "source": [
    "df.head(1)"
   ]
  },
  {
   "cell_type": "code",
   "execution_count": 75,
   "id": "102871ea",
   "metadata": {},
   "outputs": [
    {
     "data": {
      "image/png": "[encoded data removed]",
      "text/plain": [
       "<Figure size 1000x600 with 1 Axes>"
      ]
     },
     "metadata": {},
     "output_type": "display_data"
    }
   ],
   "source": [
    "def bar_graph_plots(df, title, x, y):\n",
    "\n",
    "    emissions_per_year = df.groupby(x)[y].sum().reset_index()\n",
    "\n",
    "    # Plot the data using seaborn\n",
    "    plt.figure(figsize=(10, 6))\n",
    "    sns.barplot(x=x, y=y, data=emissions_per_year, palette=\"viridis\")\n",
    "    plt.xticks(rotation=45)\n",
    "    plt.title(title)\n",
    "\n",
    "\n",
    "bar_graph_plots(df, \"Total Emissions per Year\", \"Year\", \"total_emission\")"
   ]
  },
  {
   "cell_type": "code",
   "execution_count": null,
   "id": "589cbb24",
   "metadata": {},
   "outputs": [],
   "source": [
    "    # Customizing the plot\n",
    "    plt.xlabel('Year')\n",
    "    plt.ylabel('Total Emissions')\n",
    "    plt.title('Total Emissions per Year')\n",
    "    plt.xticks(emissions_per_year['Year'])\n",
    "    plt.grid(axis='y', linestyle='--', alpha=0.7)"
   ]
  },
  {
   "cell_type": "markdown",
   "id": "e8b870aa-ae02-4f35-9001-1322287bae6b",
   "metadata": {},
   "source": [
    "## Preprocessing"
   ]
  }
 ],
 "metadata": {
  "kernelspec": {
   "display_name": "Python 3 (ipykernel)",
   "language": "python",
   "name": "python3"
  },
  "language_info": {
   "codemirror_mode": {
    "name": "ipython",
    "version": 3
   },
   "file_extension": ".py",
   "mimetype": "text/x-python",
   "name": "python",
   "nbconvert_exporter": "python",
   "pygments_lexer": "ipython3",
   "version": "3.11.7"
  }
 },
 "nbformat": 4,
 "nbformat_minor": 5
}
